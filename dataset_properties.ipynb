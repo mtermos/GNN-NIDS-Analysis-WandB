{
 "cells": [
  {
   "cell_type": "code",
   "execution_count": 1,
   "metadata": {},
   "outputs": [],
   "source": [
    "import json\n",
    "import os\n",
    "\n",
    "import pandas as pd\n",
    "\n",
    "from src.dataset.dataset_info import datasets\n",
    "from src.dataset.dataset_measures import calculate_gini_metrics\n",
    "from src.utils import NumpyEncoder\n"
   ]
  },
  {
   "cell_type": "code",
   "execution_count": 2,
   "metadata": {},
   "outputs": [],
   "source": [
    "save_to_file = True\n",
    "file_name = \"dataset_properties.json\""
   ]
  },
  {
   "cell_type": "code",
   "execution_count": 3,
   "metadata": {},
   "outputs": [],
   "source": [
    "my_datasets = [\n",
    "    # datasets[\"cic_ton_iot_5_percent\"],\n",
    "    datasets[\"cic_ids_2017_5_percent\"],\n",
    "    # datasets[\"cic_ton_iot\"],\n",
    "    # datasets[\"cic_ids_2017\"],\n",
    "    # datasets[\"cic_bot_iot\"],\n",
    "    # datasets[\"cic_ton_iot_modified\"],\n",
    "    # datasets[\"ccd_inid_modified\"],\n",
    "    # datasets[\"nf_uq_nids_modified\"],\n",
    "    # datasets[\"edge_iiot\"],\n",
    "    # datasets[\"nf_cse_cic_ids2018\"],\n",
    "    # datasets[\"nf_uq_nids\"],\n",
    "    # datasets[\"x_iiot\"],\n",
    "]"
   ]
  },
  {
   "cell_type": "code",
   "execution_count": null,
   "metadata": {},
   "outputs": [],
   "source": [
    "for dataset in my_datasets:\n",
    "    print(\"======================================\")\n",
    "    print(\"======================================\")\n",
    "    print(\"======================================\")\n",
    "    \n",
    "    name = dataset.name\n",
    "    folder_path = os.path.join(\"datasets\", name)\n",
    "    \n",
    "    print(f\"==>> name: {name}\")\n",
    "    \n",
    "    df = pd.read_parquet(dataset.path)\n",
    "    \n",
    "    num_benign = len(df[df[dataset.label_col] == 0])\n",
    "    num_attack = len(df[df[dataset.label_col] == 1])\n",
    "\n",
    "    total_count = len(df)\n",
    "    \n",
    "\n",
    "    # Assume you have df, dataset, data_s, and results defined in your code.\n",
    "    \n",
    "    properties = {\n",
    "        \"name\": name,\n",
    "        \"length\": total_count,\n",
    "        \"num_benign\": num_benign,\n",
    "        \"percentage_of_benign_records\": ((num_benign * 100)/total_count),\n",
    "        \"num_attack\": num_attack,\n",
    "        \"percentage_of_attack_records\": ((num_attack * 100)/total_count),\n",
    "        \"attacks\": list(df[dataset.class_col].unique()),\n",
    "    }\n",
    "    \n",
    "    properties = calculate_gini_metrics(df, dataset, properties)\n",
    "    \n",
    "    print(f\"==>> properties: {properties}\")\n",
    "    \n",
    "    with open(os.path.join(folder_path, file_name), 'w') as f:\n",
    "        json.dump(properties, f, cls=NumpyEncoder)"
   ]
  }
 ],
 "metadata": {
  "kernelspec": {
   "display_name": ".venv",
   "language": "python",
   "name": "python3"
  },
  "language_info": {
   "codemirror_mode": {
    "name": "ipython",
    "version": 3
   },
   "file_extension": ".py",
   "mimetype": "text/x-python",
   "name": "python",
   "nbconvert_exporter": "python",
   "pygments_lexer": "ipython3",
   "version": "3.11.9"
  },
  "orig_nbformat": 4
 },
 "nbformat": 4,
 "nbformat_minor": 2
}
