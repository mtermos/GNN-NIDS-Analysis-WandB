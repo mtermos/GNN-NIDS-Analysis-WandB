{
 "cells": [
  {
   "cell_type": "code",
   "execution_count": null,
   "id": "84cb9753-9962-4cfa-b78f-ed13216e3cc7",
   "metadata": {},
   "outputs": [],
   "source": [
    "import json\n",
    "import os\n",
    "import pickle\n",
    "\n",
    "import pandas as pd\n",
    "\n",
    "from src.dataset.dataset_info import DatasetInfo\n",
    "from src.dataset.dataset_utils import (\n",
    "    clean_dataset,\n",
    "    one_dataset_class_num_col,\n",
    "    undersample_classes,\n",
    ")\n",
    "from src.dataset.features_analysis import feature_analysis_pipeline"
   ]
  },
  {
   "cell_type": "code",
   "execution_count": null,
   "id": "ff25542f",
   "metadata": {},
   "outputs": [],
   "source": [
    "datasets_main_path = \"\" # where the original dataset files are found"
   ]
  },
  {
   "cell_type": "code",
   "execution_count": null,
   "id": "c1c96f32",
   "metadata": {},
   "outputs": [],
   "source": [
    "with_sort_timestamp = False\n",
    "with_undersample_classes = False\n",
    "\n",
    "# name = \"cic_ids_2017_5_percent\"\n",
    "# original_path = \"./testing_dfs/cic_ids_2017_5_percent.parquet\"\n",
    "# file_type = \"parquet\"\n",
    "\n",
    "# name = \"cic_ton_iot_5_percent\"\n",
    "# original_path = \"./testing_dfs/cic_ton_iot_5_percent.parquet\"\n",
    "# file_type = \"parquet\"\n",
    "\n",
    "# name = \"cic_ton_iot\"\n",
    "# original_path = datasets_main_path + \"cic_ton_iot.parquet\"\n",
    "# file_type = \"parquet\"\n",
    "\n",
    "# name = \"cic_ids_2017\"\n",
    "# original_path = datasets_main_path + \"cic_ids_2017.parquet\"\n",
    "# file_type = \"parquet\"\n",
    "\n",
    "# name = \"cic_bot_iot\"\n",
    "# original_path = datasets_main_path + \"cic_bot_iot.parquet\"\n",
    "# file_type = \"parquet\"\n",
    "\n",
    "# name = \"cic_ton_iot_modified\"\n",
    "# original_path = datasets_main_path + \"CIC-ToN-IoT-Modified.pkl\"\n",
    "# file_type = \"pkl\"\n",
    "\n",
    "# name = \"nf_ton_iotv2_modified\"\n",
    "# original_path = datasets_main_path + \"NF-ToN-IoT-v2-Modified.pkl\"\n",
    "# file_type = \"pkl\"\n",
    "\n",
    "# name = \"ccd_inid_modified\"\n",
    "# original_path = datasets_main_path + \"CCD-INID-Modified.pkl\"\n",
    "# file_type = \"pkl\"\n",
    "\n",
    "# name = \"nf_uq_nids_modified\"\n",
    "# original_path = datasets_main_path + \"NF-UQ-NIDS-Modified.pkl\"\n",
    "# file_type = \"pkl\"\n",
    "\n",
    "# name = \"edge_iiot\"\n",
    "# original_path = datasets_main_path + \"edge_iiot.pkl\"\n",
    "# file_type = \"pkl\"\n",
    "\n",
    "# name = \"nf_cse_cic_ids2018\"\n",
    "# original_path = datasets_main_path + \"NF-CSE-CIC-IDS2018.csv\"\n",
    "# file_type = \"csv\"\n",
    "\n",
    "# name = \"nf_bot_iotv2\"\n",
    "# original_path = datasets_main_path + \"NF-BoT-IoT-v2.csv\"\n",
    "# file_type = \"csv\"\n",
    "\n",
    "# name = \"nf_uq_nids\"\n",
    "# original_path = datasets_main_path + \"NF-UQ-NIDS.csv\"\n",
    "# file_type = \"csv\"\n",
    "\n",
    "name = \"x_iiot\"\n",
    "original_path = datasets_main_path + \"X-IIoTID dataset.csv\"\n",
    "file_type = \"csv\"\n",
    "\n",
    "folder_path = os.path.join(\"datasets\", name)\n",
    "output_path = os.path.join(folder_path, name + \".parquet\")\n",
    "\n",
    "if not os.path.isdir(folder_path):\n",
    "    os.mkdir(folder_path)\n",
    "\n",
    "print(f\"==>> original_path: {original_path}\")\n",
    "print(f\"==>> folder_path: {folder_path}\")\n",
    "print(f\"==>> output_path: {output_path}\")"
   ]
  },
  {
   "attachments": {},
   "cell_type": "markdown",
   "id": "b7ca3130",
   "metadata": {},
   "source": [
    "# Preparing Datasets"
   ]
  },
  {
   "attachments": {},
   "cell_type": "markdown",
   "id": "43cecea5",
   "metadata": {},
   "source": [
    "### Reading and Cleaning"
   ]
  },
  {
   "cell_type": "code",
   "execution_count": null,
   "id": "6e8e652c-7d74-47a3-9faa-7da0f290d90f",
   "metadata": {},
   "outputs": [],
   "source": [
    "if file_type == \"parquet\":\n",
    "    df = pd.read_parquet(original_path)\n",
    "if file_type == \"csv\":\n",
    "    df = pd.read_csv(original_path)\n",
    "if file_type == \"pkl\":\n",
    "    df = pd.read_pickle(original_path)\n",
    "    # df = pd.read_pickle(original_path, compression=\"zip\")"
   ]
  },
  {
   "cell_type": "code",
   "execution_count": 4,
   "id": "744c5186",
   "metadata": {},
   "outputs": [],
   "source": [
    "pd.options.display.max_columns = df.shape[1]\n"
   ]
  },
  {
   "cell_type": "code",
   "execution_count": null,
   "id": "9b40b434",
   "metadata": {},
   "outputs": [],
   "source": [
    "df.head()\n"
   ]
  },
  {
   "cell_type": "code",
   "execution_count": 6,
   "id": "d4d0eb8b",
   "metadata": {},
   "outputs": [],
   "source": [
    "timestamp_format = \"mixed\"\n",
    "# timestamp_format=\"%d/%m/%Y %I:%M:%S %p\"\n"
   ]
  },
  {
   "cell_type": "code",
   "execution_count": null,
   "id": "c8770b97",
   "metadata": {},
   "outputs": [],
   "source": [
    "df.columns\n"
   ]
  },
  {
   "cell_type": "code",
   "execution_count": null,
   "id": "2f2a2219",
   "metadata": {
    "vscode": {
     "languageId": "ruby"
    }
   },
   "outputs": [],
   "source": [
    "list(df.dtypes)"
   ]
  },
  {
   "cell_type": "code",
   "execution_count": null,
   "id": "bcb7c003",
   "metadata": {
    "vscode": {
     "languageId": "ruby"
    }
   },
   "outputs": [],
   "source": [
    "df.describe(include=\"all\")"
   ]
  },
  {
   "cell_type": "code",
   "execution_count": 10,
   "id": "0e83d0ac",
   "metadata": {},
   "outputs": [],
   "source": [
    "datesetInfo = DatasetInfo(name=\"x_iiot\",\n",
    "                          path=\"./datasets/x_iiot/x_iiot.parquet\",\n",
    "                          file_type=\"parquet\",\n",
    "                          src_ip_col=\"Scr_IP\",\n",
    "                          src_port_col=\"Scr_port\",\n",
    "                          dst_ip_col=\"Des_IP\",\n",
    "                          dst_port_col=\"Des_port\",\n",
    "                          flow_id_col=None,\n",
    "                          timestamp_col=\"Timestamp\",\n",
    "                          label_col=\"class3\",\n",
    "                          class_col=\"class2\",\n",
    "                          class_num_col=\"Class\",\n",
    "                          timestamp_format=\"mixed\",\n",
    "                          drop_columns=[\"Scr_IP\", \"Scr_port\", \"Des_IP\",\n",
    "                                        \"Des_port\", \"Timestamp\", \"class1\", \"class2\"],\n",
    "                          )"
   ]
  },
  {
   "cell_type": "code",
   "execution_count": null,
   "id": "f357ab92",
   "metadata": {},
   "outputs": [],
   "source": [
    "df.shape\n"
   ]
  },
  {
   "cell_type": "code",
   "execution_count": 12,
   "id": "a1ee42bc",
   "metadata": {},
   "outputs": [],
   "source": [
    "# import numpy as np\n",
    "# df.replace([np.inf, -np.inf], np.nan, inplace=True)\n"
   ]
  },
  {
   "cell_type": "code",
   "execution_count": null,
   "id": "8ee5e5af",
   "metadata": {},
   "outputs": [],
   "source": [
    "df.describe()\n"
   ]
  },
  {
   "cell_type": "code",
   "execution_count": null,
   "id": "400274d1",
   "metadata": {},
   "outputs": [],
   "source": [
    "df.isna().sum()\n"
   ]
  },
  {
   "cell_type": "code",
   "execution_count": null,
   "id": "810f2e85",
   "metadata": {},
   "outputs": [],
   "source": []
  },
  {
   "cell_type": "code",
   "execution_count": null,
   "id": "d7e1ca4b",
   "metadata": {},
   "outputs": [],
   "source": [
    "def to_categorical_codes(column):\n",
    "    return pd.Categorical(column).codes\n",
    "\n",
    "\n",
    "if name == 'x_iiot':\n",
    "    # columns_to_convert = [\n",
    "    #     'Protocol', 'Service', 'is_syn_only', 'Is_SYN_ACK',\n",
    "    #     'is_pure_ack', 'is_with_payload', 'FIN or RST',\n",
    "    #     'Bad_checksum', 'is_SYN_with_RST', 'anomaly_alert']\n",
    "\n",
    "    # for col in columns_to_convert:\n",
    "    #     if col in df.columns:\n",
    "    #         df[col] = to_categorical_codes(df[col])\n",
    "    #     else:\n",
    "    #         print(f\"Warning: Column '{col}' not found in the DataFrame\")\n",
    "\n",
    "    object_columns_to_keep = ['Timestamp', 'Scr_IP', 'Scr_port',\n",
    "                              'Des_IP', 'Des_port', 'class1', 'class2', 'class3']\n",
    "\n",
    "    df.drop(['Date'], axis=1, inplace=True)\n",
    "    # df['Timestamp'] = df['Timestamp'].apply(str)\n",
    "\n",
    "    df['Timestamp'] = pd.to_datetime(\n",
    "            df['Timestamp'].str.strip(), unit='s', errors='coerce')\n",
    "    df.dropna(subset=['Timestamp'], inplace=True)\n",
    "    \n",
    "    # Convert all other columns to int\n",
    "    for col in df.columns:\n",
    "        if df[col].dtype == 'object' and col not in object_columns_to_keep:\n",
    "            df[col] = to_categorical_codes(df[col])\n",
    "\n",
    "    df['class3'] = (df['class3'] == 'Attack').astype(int)\n",
    "    # df.rename(columns={'class3': 'label'}, inplace=True)\n",
    "\n",
    "    df = df.applymap(lambda x: 0 if x == '-' else x)\n",
    "    df = df.applymap(lambda x: 0 if x == '?' else x)\n",
    "    df = df.applymap(lambda x: 0 if x == '#DIV/0!' else x)\n",
    "    df = df.applymap(lambda x: 0 if x == 'excel' else x)\n",
    "    df = df.applymap(lambda x: 0 if x == 'aza' else x)\n",
    "    df = df.applymap(lambda x: 0 if x == ' ' else x)\n",
    "\n",
    "if name == 'edge_iiot':\n",
    "    df.drop(['tcp.options', 'tcp.payload'], axis=1, inplace=True)\n",
    "\n",
    "    columns_to_convert = ['mqtt.protoname', 'mqtt.topic', 'mqtt.conack.flags', 'mqtt.msg', 'http.request.method', 'dns.qry.name.len', 'arp.src.proto_ipv4',\n",
    "                          'http.request.full_uri', 'http.file_data', 'http.request.version', 'arp.dst.proto_ipv4', 'http.request.uri.query', 'tcp.srcport', 'http.referer']\n",
    "\n",
    "    for col in columns_to_convert:\n",
    "        if col in df.columns:\n",
    "            df[col] = to_categorical_codes(df[col])\n",
    "        else:\n",
    "            print(f\"Warning: Column '{col}' not found in the DataFrame\")\n",
    "\n",
    "\n",
    "if name == 'ccd_inid_modified':\n",
    "    columns_to_convert = ['splt_direction', 'splt_ps', 'splt_piat_ms', 'application_name',\n",
    "                          'application_category_name', 'requested_server_name', 'client_fingerprint']\n",
    "\n",
    "    for col in columns_to_convert:\n",
    "        if col in df.columns:\n",
    "            df[col] = to_categorical_codes(df[col])\n",
    "        else:\n",
    "            print(f\"Warning: Column '{col}' not found in the DataFrame\")\n",
    "    df['traffic_type'] = (df['traffic_type'] == 'attack').astype(int)\n",
    "    df.drop(['requested_server_name', 'client_fingerprint',\n",
    "            'server_fingerprint', 'user_agent', 'content_type'], axis=1, inplace=True)\n",
    "\n",
    "if name == 'cic_ton_iot_modified':\n",
    "    df.drop(['datetime'], axis=1, inplace=True)"
   ]
  },
  {
   "cell_type": "code",
   "execution_count": null,
   "id": "ddbeae50",
   "metadata": {},
   "outputs": [],
   "source": [
    "df = clean_dataset(df, flow_id_col=datesetInfo.flow_id_col,\n",
    "                   timestamp_col=datesetInfo.timestamp_col)"
   ]
  },
  {
   "cell_type": "code",
   "execution_count": 17,
   "id": "a322e1ad",
   "metadata": {},
   "outputs": [],
   "source": [
    "df[datesetInfo.src_ip_col] = df[datesetInfo.src_ip_col].apply(str)\n",
    "if datesetInfo.src_port_col:\n",
    "\n",
    "    df[datesetInfo.src_port_col] = df[datesetInfo.src_port_col].apply(str)\n",
    "\n",
    "df[datesetInfo.dst_ip_col] = df[datesetInfo.dst_ip_col].apply(str)\n",
    "if datesetInfo.dst_port_col:\n",
    "\n",
    "    df[datesetInfo.dst_port_col] = df[datesetInfo.dst_port_col].apply(str)"
   ]
  },
  {
   "cell_type": "code",
   "execution_count": null,
   "id": "a083cb92",
   "metadata": {},
   "outputs": [],
   "source": [
    "df.head()\n"
   ]
  },
  {
   "cell_type": "code",
   "execution_count": null,
   "id": "7194a918",
   "metadata": {},
   "outputs": [],
   "source": [
    "df.describe()\n"
   ]
  },
  {
   "cell_type": "code",
   "execution_count": null,
   "id": "85f00c4c",
   "metadata": {},
   "outputs": [],
   "source": [
    "_, var_dropped, corr_dropped = feature_analysis_pipeline(\n",
    "    df=df, drop_columns=datesetInfo.drop_columns, label_col=datesetInfo.label_col)\n",
    "var_dropped, corr_dropped"
   ]
  },
  {
   "cell_type": "code",
   "execution_count": null,
   "id": "7950374d",
   "metadata": {},
   "outputs": [],
   "source": [
    "print(f\"==>> type(var_dropped): {type(var_dropped)}\")\n",
    "print(f\"==>> type(corr_dropped): {type(corr_dropped)}\")\n"
   ]
  },
  {
   "cell_type": "code",
   "execution_count": null,
   "id": "b9eafdc5",
   "metadata": {},
   "outputs": [],
   "source": [
    "var_dropped = set(var_dropped)\n",
    "weak_columns = var_dropped.union(set(corr_dropped))\n",
    "weak_columns\n"
   ]
  },
  {
   "attachments": {},
   "cell_type": "markdown",
   "id": "b147094b",
   "metadata": {},
   "source": [
    "### Attacks Types"
   ]
  },
  {
   "cell_type": "code",
   "execution_count": null,
   "id": "5e6bc9df",
   "metadata": {},
   "outputs": [],
   "source": [
    "df[datesetInfo.class_col].unique()\n"
   ]
  },
  {
   "cell_type": "code",
   "execution_count": 24,
   "id": "80ccdb4a",
   "metadata": {},
   "outputs": [],
   "source": [
    "# df[class_col] = df[class_col].replace({\"BENIGN\": \"Benign\",\n",
    "#                                        \"DDoS\": \"ddos\",\n",
    "#                                        \"Web Attack � Brute Force\": \"bruteforce\",\n",
    "#                                        \"Web Attack � XSS\": \"xss\"})\n"
   ]
  },
  {
   "cell_type": "code",
   "execution_count": 25,
   "id": "cafaa712",
   "metadata": {},
   "outputs": [],
   "source": [
    "classes = df[datesetInfo.class_col].unique()\n"
   ]
  },
  {
   "attachments": {},
   "cell_type": "markdown",
   "id": "0dfea377",
   "metadata": {},
   "source": [
    "### Sorting (optional)"
   ]
  },
  {
   "cell_type": "code",
   "execution_count": 26,
   "id": "a3f48d2a",
   "metadata": {},
   "outputs": [],
   "source": [
    "if with_sort_timestamp and datesetInfo.timestamp_col:\n",
    "    df[datesetInfo.timestamp_col] = pd.to_datetime(\n",
    "        df[datesetInfo.timestamp_col].str.strip(), format=timestamp_format)\n",
    "    df.sort_values(datesetInfo.timestamp_col, inplace=True)"
   ]
  },
  {
   "attachments": {},
   "cell_type": "markdown",
   "id": "1215ca63",
   "metadata": {},
   "source": [
    "### Encoding Attacks into integers"
   ]
  },
  {
   "cell_type": "code",
   "execution_count": null,
   "id": "b820edb5-7f77-4a02-8305-9491e3c8a980",
   "metadata": {},
   "outputs": [],
   "source": [
    "df, labels_names = one_dataset_class_num_col(\n",
    "    df, datesetInfo.class_num_col, datesetInfo.class_col)"
   ]
  },
  {
   "cell_type": "code",
   "execution_count": null,
   "id": "dd8a9890",
   "metadata": {},
   "outputs": [],
   "source": [
    "df.groupby(datesetInfo.class_col).size()\n"
   ]
  },
  {
   "attachments": {},
   "cell_type": "markdown",
   "id": "fd1c995b",
   "metadata": {},
   "source": [
    "### Undersampling classes (optional)"
   ]
  },
  {
   "cell_type": "code",
   "execution_count": 29,
   "id": "d5cbab61-3bd1-43c1-892c-4db0c150f3d5",
   "metadata": {},
   "outputs": [],
   "source": [
    "if with_undersample_classes:\n",
    "    # Group by the class column and get the count of records in each class\n",
    "    class_counts = df.groupby(datesetInfo.class_col).size()\n",
    "\n",
    "    # Sort the counts in descending order\n",
    "    class_counts_sorted = class_counts.sort_values(ascending=False)\n",
    "    print(f\"==>> class_counts_sorted: {class_counts_sorted}\")\n"
   ]
  },
  {
   "cell_type": "code",
   "execution_count": 30,
   "id": "71fd9f7c-aa56-477a-9f24-4b9c4bf63826",
   "metadata": {},
   "outputs": [],
   "source": [
    "if with_undersample_classes:\n",
    "    # Get the classes with the highest number of records (you can choose how many to undersample)\n",
    "    classes_to_undersample = class_counts_sorted.index[:2]\n",
    "\n",
    "    # Undersample the classes with the highest number of records\n",
    "    dfs = []\n",
    "    for class_label in class_counts_sorted.index:\n",
    "        print(f\"==>> class_label: {class_label}\")\n",
    "        if class_label in classes_to_undersample:\n",
    "            class_df = df[df[datesetInfo.class_col] == class_label]\n",
    "            # Specify the fraction of samples to keep\n",
    "            undersampled_df = class_df.sample(frac=0.5)\n",
    "            dfs.append(undersampled_df)\n",
    "        else:\n",
    "            dfs.append(df[df[datesetInfo.class_col] == class_label])\n",
    "\n",
    "    df = []\n",
    "    # Optional: shuffle the undersampled DataFrame\n",
    "    df = pd.concat(dfs).sample(frac=1).reset_index(drop=True)"
   ]
  },
  {
   "cell_type": "code",
   "execution_count": 31,
   "id": "eceb2754-3b56-467b-8470-9ab1c832f89c",
   "metadata": {},
   "outputs": [],
   "source": [
    "if with_undersample_classes:\n",
    "    # Group by the class column and get the count of records in each class\n",
    "    class_counts = df.groupby(datesetInfo.class_col).size()\n",
    "\n",
    "    # Sort the counts in descending order\n",
    "    class_counts_sorted = class_counts.sort_values(ascending=False)\n",
    "    print(f\"==>> class_counts_sorted: {class_counts_sorted}\")\n"
   ]
  },
  {
   "attachments": {},
   "cell_type": "markdown",
   "id": "90723f84",
   "metadata": {},
   "source": [
    "### saving labels encodings and datasets properties"
   ]
  },
  {
   "cell_type": "code",
   "execution_count": 32,
   "id": "b0e2c1f3-facf-492a-a6b4-6ef70cb008eb",
   "metadata": {},
   "outputs": [],
   "source": [
    "with open(folder_path + '/labels_names.pkl', 'wb') as f:\n",
    "    pickle.dump([labels_names, classes], f)\n"
   ]
  },
  {
   "cell_type": "code",
   "execution_count": null,
   "id": "a6e0c61b",
   "metadata": {},
   "outputs": [],
   "source": [
    "df[datesetInfo.label_col].unique()\n"
   ]
  },
  {
   "cell_type": "code",
   "execution_count": null,
   "id": "30b4c519-7e2a-4441-8101-73615e352968",
   "metadata": {},
   "outputs": [],
   "source": [
    "total_count = len(df)\n",
    "\n",
    "properties = {\n",
    "    \"name\": name,\n",
    "    \"length\": total_count,\n",
    "}\n",
    "\n",
    "num_benign = len(df[df[datesetInfo.label_col] == 0])\n",
    "num_attack = len(df[df[datesetInfo.label_col] == 1])\n",
    "\n",
    "properties[\"num_benign\"] = num_benign\n",
    "properties[\"percentage_of_benign_records\"] = ((num_benign * 100)/total_count)\n",
    "\n",
    "properties[\"num_attack\"] = num_attack\n",
    "properties[\"percentage_of_attack_records\"] = ((num_attack * 100)/total_count)\n",
    "\n",
    "properties[\"attacks\"] = list(df[datesetInfo.class_col].unique())\n",
    "\n",
    "properties[\"weak_columns\"] = list(weak_columns)\n",
    "\n",
    "with open(folder_path + '/df_properties.json', 'w') as f:\n",
    "    json.dump(properties, f)\n",
    "\n",
    "properties"
   ]
  },
  {
   "cell_type": "code",
   "execution_count": 35,
   "id": "f8c21e8f",
   "metadata": {},
   "outputs": [],
   "source": [
    "# graphs_properties_path = folder_path + '/graphs_properties.json'\n",
    "# G = nx.from_pandas_edgelist(\n",
    "#     df,\n",
    "#     source=src_ip_col,\n",
    "#     target=dst_ip_col,\n",
    "#     create_using=nx.DiGraph()\n",
    "# )\n",
    "# calculate_graph_measures(G, graphs_properties_path)\n"
   ]
  },
  {
   "cell_type": "code",
   "execution_count": 36,
   "id": "250da447",
   "metadata": {},
   "outputs": [],
   "source": [
    "df.to_parquet(output_path)\n"
   ]
  },
  {
   "cell_type": "code",
   "execution_count": null,
   "id": "00e653b0",
   "metadata": {},
   "outputs": [],
   "source": [
    "df.shape\n"
   ]
  },
  {
   "cell_type": "code",
   "execution_count": null,
   "id": "211fdceb",
   "metadata": {},
   "outputs": [],
   "source": [
    "df.head()\n"
   ]
  },
  {
   "cell_type": "code",
   "execution_count": null,
   "id": "c8eb8cee",
   "metadata": {},
   "outputs": [],
   "source": [
    "df.describe(include=\"all\")\n"
   ]
  },
  {
   "cell_type": "code",
   "execution_count": null,
   "id": "791da8c3",
   "metadata": {},
   "outputs": [],
   "source": [
    "df.dtypes\n"
   ]
  },
  {
   "cell_type": "code",
   "execution_count": null,
   "id": "9bb07dc8",
   "metadata": {},
   "outputs": [],
   "source": [
    "list(df.dtypes)\n"
   ]
  },
  {
   "cell_type": "code",
   "execution_count": null,
   "id": "76b55214",
   "metadata": {},
   "outputs": [],
   "source": [
    "for column, dtype in df.dtypes.items():\n",
    "    print(f\"Column '{column}': {dtype}\")\n"
   ]
  }
 ],
 "metadata": {
  "kernelspec": {
   "display_name": ".venv",
   "language": "python",
   "name": "python3"
  },
  "language_info": {
   "codemirror_mode": {
    "name": "ipython",
    "version": 3
   },
   "file_extension": ".py",
   "mimetype": "text/x-python",
   "name": "python",
   "nbconvert_exporter": "python",
   "pygments_lexer": "ipython3",
   "version": "3.11.9"
  }
 },
 "nbformat": 4,
 "nbformat_minor": 5
}
